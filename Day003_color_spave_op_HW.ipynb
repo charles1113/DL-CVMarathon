{
 "cells": [
  {
   "cell_type": "code",
   "execution_count": 1,
   "metadata": {},
   "outputs": [],
   "source": [
    "import cv2"
   ]
  },
  {
   "cell_type": "markdown",
   "metadata": {},
   "source": [
    "# 改變 color space 來調整飽和度"
   ]
  },
  {
   "cell_type": "code",
   "execution_count": 7,
   "metadata": {},
   "outputs": [],
   "source": [
    "img_rgb=cv2.imread('dog.jpg',cv2.IMREAD_COLOR)\n",
    "img_hsv=cv2.cvtColor(img_rgb,cv2.COLOR_BGR2HSV)"
   ]
  },
  {
   "cell_type": "code",
   "execution_count": 3,
   "metadata": {},
   "outputs": [],
   "source": [
    "img_hsv=img_hsv.astype('float32')"
   ]
  },
  {
   "cell_type": "code",
   "execution_count": 5,
   "metadata": {},
   "outputs": [],
   "source": [
    "img_hsv[:,:,1]=img_hsv[:,:,1]/255-0.2"
   ]
  },
  {
   "cell_type": "code",
   "execution_count": 6,
   "metadata": {
    "collapsed": true
   },
   "outputs": [
    {
     "data": {
      "text/plain": [
       "array([[[ 8.0000000e+01, -1.7254902e-01,  2.1600000e+02],\n",
       "        [ 8.0000000e+01, -1.7254902e-01,  2.1600000e+02],\n",
       "        [ 8.0000000e+01, -1.7254902e-01,  2.1700000e+02],\n",
       "        ...,\n",
       "        [ 1.1000000e+02, -1.8823530e-01,  2.3200000e+02],\n",
       "        [ 1.2000000e+02, -1.9215687e-01,  2.3200000e+02],\n",
       "        [ 1.2000000e+02, -1.9215687e-01,  2.3300000e+02]],\n",
       "\n",
       "       [[ 8.0000000e+01, -1.7254902e-01,  2.1300000e+02],\n",
       "        [ 8.0000000e+01, -1.7254902e-01,  2.1400000e+02],\n",
       "        [ 8.0000000e+01, -1.7254902e-01,  2.1400000e+02],\n",
       "        ...,\n",
       "        [ 1.1000000e+02, -1.8823530e-01,  2.3100000e+02],\n",
       "        [ 1.2000000e+02, -1.9215687e-01,  2.3000000e+02],\n",
       "        [ 1.2600000e+02, -1.8039216e-01,  2.3300000e+02]],\n",
       "\n",
       "       [[ 8.0000000e+01, -1.7254902e-01,  2.1300000e+02],\n",
       "        [ 8.0000000e+01, -1.7254902e-01,  2.1400000e+02],\n",
       "        [ 8.0000000e+01, -1.7254902e-01,  2.1400000e+02],\n",
       "        ...,\n",
       "        [ 7.5000000e+01, -1.9215687e-01,  2.3000000e+02],\n",
       "        [ 1.1000000e+02, -1.8823530e-01,  2.3000000e+02],\n",
       "        [ 1.1400000e+02, -1.8039216e-01,  2.3200000e+02]],\n",
       "\n",
       "       ...,\n",
       "\n",
       "       [[ 1.6000000e+01, -1.4901961e-01,  2.1900000e+02],\n",
       "        [ 2.1000000e+01, -1.5294118e-01,  2.1500000e+02],\n",
       "        [ 2.1000000e+01, -1.5294118e-01,  2.1400000e+02],\n",
       "        ...,\n",
       "        [ 2.1000000e+01, -1.3725489e-01,  2.1000000e+02],\n",
       "        [ 2.2000000e+01, -1.2941176e-01,  2.1000000e+02],\n",
       "        [ 1.8000000e+01, -1.2156863e-01,  2.1300000e+02]],\n",
       "\n",
       "       [[ 2.1000000e+01, -1.5686275e-01,  2.2500000e+02],\n",
       "        [ 2.1000000e+01, -1.5686275e-01,  2.2300000e+02],\n",
       "        [ 2.1000000e+01, -1.5686275e-01,  2.2200000e+02],\n",
       "        ...,\n",
       "        [ 2.1000000e+01, -1.3725489e-01,  2.1000000e+02],\n",
       "        [ 1.8000000e+01, -1.2156863e-01,  2.1200000e+02],\n",
       "        [ 1.8000000e+01, -1.2156863e-01,  2.1200000e+02]],\n",
       "\n",
       "       [[ 2.4000000e+01, -1.7647059e-01,  2.2400000e+02],\n",
       "        [ 2.4000000e+01, -1.7647059e-01,  2.2300000e+02],\n",
       "        [ 2.5000000e+01, -1.7254902e-01,  2.2400000e+02],\n",
       "        ...,\n",
       "        [ 1.6000000e+01, -1.2941176e-01,  2.1200000e+02],\n",
       "        [ 1.8000000e+01, -1.2156863e-01,  2.1200000e+02],\n",
       "        [ 1.8000000e+01, -1.2156863e-01,  2.1200000e+02]]], dtype=float32)"
      ]
     },
     "execution_count": 6,
     "metadata": {},
     "output_type": "execute_result"
    }
   ],
   "source": [
    "img_hsv"
   ]
  },
  {
   "cell_type": "markdown",
   "metadata": {},
   "source": [
    "# 實作直方圖均衡"
   ]
  },
  {
   "cell_type": "code",
   "execution_count": 9,
   "metadata": {},
   "outputs": [],
   "source": [
    "img_rgb=cv2.imread('dog.jpg',cv2.IMREAD_GRAYSCALE)"
   ]
  },
  {
   "cell_type": "code",
   "execution_count": 10,
   "metadata": {},
   "outputs": [],
   "source": [
    "img_hist=cv2.equalizeHist(img_rgb)"
   ]
  },
  {
   "cell_type": "markdown",
   "metadata": {},
   "source": [
    "# alpha/ beta 調整對比 / 明亮"
   ]
  },
  {
   "cell_type": "code",
   "execution_count": 11,
   "metadata": {},
   "outputs": [],
   "source": [
    "img_rgb=cv2.imread('dog.jpg',cv2.IMREAD_COLOR)"
   ]
  },
  {
   "cell_type": "code",
   "execution_count": 12,
   "metadata": {},
   "outputs": [],
   "source": [
    "img1=cv2.convertScaleAbs(img_rgb,alpha=2.0,beta=0)"
   ]
  },
  {
   "cell_type": "code",
   "execution_count": 13,
   "metadata": {},
   "outputs": [],
   "source": [
    "img2=cv2.convertScaleAbs(img_rgb,alpha=1.0,beta=50)"
   ]
  }
 ],
 "metadata": {
  "kernelspec": {
   "display_name": "Python 3",
   "language": "python",
   "name": "python3"
  },
  "language_info": {
   "codemirror_mode": {
    "name": "ipython",
    "version": 3
   },
   "file_extension": ".py",
   "mimetype": "text/x-python",
   "name": "python",
   "nbconvert_exporter": "python",
   "pygments_lexer": "ipython3",
   "version": "3.7.2"
  }
 },
 "nbformat": 4,
 "nbformat_minor": 2
}
